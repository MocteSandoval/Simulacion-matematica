{
 "cells": [
  {
   "cell_type": "markdown",
   "id": "78612b29",
   "metadata": {},
   "source": [
    "# **Tarea 01 - Markdown**"
   ]
  },
  {
   "cell_type": "markdown",
   "id": "89d2f3b3",
   "metadata": {},
   "source": [
    "## Moctezuma Sandoval García - if728432"
   ]
  },
  {
   "cell_type": "markdown",
   "id": "86525764",
   "metadata": {},
   "source": [
    "Soy un estudiante del *ITESO*. Tengo actualmente 22 años y después de 3 años (por pandemia), estoy retomando de nuevo mis estudios. Me gusta mucho:"
   ]
  },
  {
   "cell_type": "markdown",
   "id": "349bbf5b",
   "metadata": {},
   "source": [
    "- Entrenar en el gimnasio\n",
    "- Salir con mi novia \n",
    "- Rodar el moto\n",
    "- Tener nuevas experiencias "
   ]
  },
  {
   "cell_type": "markdown",
   "id": "9d981de2",
   "metadata": {},
   "source": [
    "## Ingeniería Financiera "
   ]
  },
  {
   "cell_type": "markdown",
   "id": "0bdf12ee",
   "metadata": {},
   "source": [
    "Elegí esta carrera porque me gusta mucho el ámbito financiero. Desde que estaba en la prepa, decidí esta carrera por las siguientes razones:"
   ]
  },
  {
   "cell_type": "markdown",
   "id": "130cac76",
   "metadata": {},
   "source": [
    "1. Ayudar en los problemas económicos del pais.\n",
    "2. Invertir en los mercados bursátiles \n",
    "3. Me gustan mucho las matemáticas y las ciencias exáctas"
   ]
  },
  {
   "cell_type": "markdown",
   "id": "c2322a52",
   "metadata": {},
   "source": [
    "![](https://www.bing.com/images/search?view=detailV2&ccid=Gdecaw%2bB&id=18AEE4988EAE105AE6C98BE6FCD754AFB1D4C1EB&thid=OIP.Gdecaw-BPbC_CSrqRMQNdAHaES&mediaurl=https%3a%2f%2fth.bing.com%2fth%2fid%2fR.19d79c6b0f813db0bf092aea44c40d74%3frik%3d68HUsa9U1%252fzmiw%26riu%3dhttp%253a%252f%252flexlatin.com%252fportal%252fsites%252fdefault%252ffiles%252femision-marval.jpg%26ehk%3dczBISEQVY4l%252fn20pPfHqmW9eGjvbKeBpjoSTmi7EsOY%253d%26risl%3d%26pid%3dImgRaw%26r%3d0%26sres%3d1%26sresct%3d1%26srh%3d752%26srw%3d1300&exph=405&expw=700&q=mercado+de+valores&simid=608054545192132492&FORM=IRPRST&ck=3FE6E79EB3032A10D5CDFBE7D4EF4640&selectedIndex=5)"
   ]
  },
  {
   "cell_type": "markdown",
   "id": "5e1c9bad",
   "metadata": {},
   "source": [
    "![](https://th.bing.com/th/id/R.19d79c6b0f813db0bf092aea44c40d74?rik=68HUsa9U1%2fzmiw&riu=http%3a%2f%2flexlatin.com%2fportal%2fsites%2fdefault%2ffiles%2femision-marval.jpg&ehk=czBISEQVY4l%2fn20pPfHqmW9eGjvbKeBpjoSTmi7EsOY%3d&risl=&pid=ImgRaw&r=0&sres=1&sresct=1)"
   ]
  },
  {
   "cell_type": "markdown",
   "id": "a3768e26",
   "metadata": {},
   "source": [
    "Uno de los temas que más me gustó durante mis primeros semestres fue acerca de los intereses, porque cuando inicie mi vida financiera no entendía mucho estos conceptos."
   ]
  },
  {
   "cell_type": "markdown",
   "id": "61814467",
   "metadata": {},
   "source": [
    "*¿Qué es un interés?*\n",
    "\n",
    "Es la cantidad de dinero obtenida como retribución o utilidad por haber prestado un capital durante un tiempo determinado."
   ]
  },
  {
   "cell_type": "markdown",
   "id": "45342ba8",
   "metadata": {},
   "source": [
    "$ I=c × i × t $"
   ]
  },
  {
   "cell_type": "markdown",
   "id": "eef3bbf8",
   "metadata": {},
   "source": []
  },
  {
   "cell_type": "markdown",
   "id": "bb193213",
   "metadata": {},
   "source": []
  }
 ],
 "metadata": {
  "kernelspec": {
   "display_name": "Python 3 (ipykernel)",
   "language": "python",
   "name": "python3"
  },
  "language_info": {
   "codemirror_mode": {
    "name": "ipython",
    "version": 3
   },
   "file_extension": ".py",
   "mimetype": "text/x-python",
   "name": "python",
   "nbconvert_exporter": "python",
   "pygments_lexer": "ipython3",
   "version": "3.9.12"
  }
 },
 "nbformat": 4,
 "nbformat_minor": 5
}
